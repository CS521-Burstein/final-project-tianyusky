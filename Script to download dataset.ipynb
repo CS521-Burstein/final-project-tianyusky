{
 "cells": [
  {
   "cell_type": "code",
   "execution_count": 1,
   "id": "1527796e",
   "metadata": {},
   "outputs": [],
   "source": [
    "import requests"
   ]
  },
  {
   "cell_type": "code",
   "execution_count": 15,
   "id": "e01c5fb4",
   "metadata": {},
   "outputs": [],
   "source": [
    "url = 'https://raw.githubusercontent.com/bursteinalan/Data-Sets/eeb24b9d76c7384f82489d51c28524fcb39775f4/Housing/House%20Prediction%20Data.csv'"
   ]
  },
  {
   "cell_type": "code",
   "execution_count": 16,
   "id": "ed4b1775",
   "metadata": {},
   "outputs": [],
   "source": [
    "r = requests.get(url, allow_redirects=True)"
   ]
  },
  {
   "cell_type": "code",
   "execution_count": 17,
   "id": "dc24b1c8",
   "metadata": {},
   "outputs": [],
   "source": [
    "content = r.content"
   ]
  },
  {
   "cell_type": "code",
   "execution_count": 18,
   "id": "01503ce6",
   "metadata": {},
   "outputs": [
    {
     "data": {
      "text/plain": [
       "'Id,MSSubClass,MSZoning,LotFrontage,LotArea,Street,Alley,LotShape,LandContour,Utilities,LotConfig,Lan'"
      ]
     },
     "execution_count": 18,
     "metadata": {},
     "output_type": "execute_result"
    }
   ],
   "source": [
    "r.content.decode(\"utf-8\")[:100]"
   ]
  },
  {
   "cell_type": "code",
   "execution_count": 19,
   "id": "9cad9c4e",
   "metadata": {},
   "outputs": [],
   "source": [
    "file = 't.csv'"
   ]
  },
  {
   "cell_type": "code",
   "execution_count": 20,
   "id": "dcdc96f3",
   "metadata": {},
   "outputs": [
    {
     "data": {
      "text/plain": [
       "950547"
      ]
     },
     "execution_count": 20,
     "metadata": {},
     "output_type": "execute_result"
    }
   ],
   "source": [
    "open(file,'wb').write(content)"
   ]
  },
  {
   "cell_type": "code",
   "execution_count": null,
   "id": "301d20c2",
   "metadata": {},
   "outputs": [],
   "source": []
  }
 ],
 "metadata": {
  "kernelspec": {
   "display_name": "Python 3 (ipykernel)",
   "language": "python",
   "name": "python3"
  },
  "language_info": {
   "codemirror_mode": {
    "name": "ipython",
    "version": 3
   },
   "file_extension": ".py",
   "mimetype": "text/x-python",
   "name": "python",
   "nbconvert_exporter": "python",
   "pygments_lexer": "ipython3",
   "version": "3.9.7"
  }
 },
 "nbformat": 4,
 "nbformat_minor": 5
}
